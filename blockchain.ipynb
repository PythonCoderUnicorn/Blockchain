{
 "cells": [
  {
   "attachments": {},
   "cell_type": "markdown",
   "metadata": {},
   "source": [
    "# Blockchain in Python"
   ]
  },
  {
   "attachments": {},
   "cell_type": "markdown",
   "metadata": {},
   "source": [
    "The blockchain also logs transactions between senders and receivers,\n",
    "the blockchain relies on a public network of computers to verify the transaction.\n",
    "\n",
    "- `Block`: A block is an individual transaction or piece of data that is being stored within the blockchain.\n",
    "  \n",
    "- `Blockchain`: A blockchain is a continuously growing list (“chain”) of records (“block”), called blocks, which are linked chronologically and secured using cryptography.\n",
    "\n",
    "\n",
    "- Each participant is a computer that owns a copy of the blockchain. These participants cross-reference their copy of the blockchain each time a new block is being introduced.\n",
    "- In order for a new block to be added, 51% of all of the participants in the blockchain network must verify that the new block is not fraudulent. \n",
    "  \n",
    "\n",
    "[freecodecamp - Solidity & Python](https://www.youtube.com/watch?v=M576WGiDBdQ)\n",
    "\n",
    "[GitHub repo for video](https://github.com/smartcontractkit/full-blockchain-solidity-course-py)\n",
    "\n"
   ]
  },
  {
   "cell_type": "code",
   "execution_count": null,
   "metadata": {},
   "outputs": [],
   "source": []
  }
 ],
 "metadata": {
  "language_info": {
   "name": "python"
  },
  "orig_nbformat": 4
 },
 "nbformat": 4,
 "nbformat_minor": 2
}
